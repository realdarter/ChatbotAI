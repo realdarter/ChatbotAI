{
  "cells": [
    {
      "cell_type": "markdown",
      "metadata": {
        "id": "view-in-github",
        "colab_type": "text"
      },
      "source": [
        "<a href=\"https://colab.research.google.com/github/realdarter/MovieChatBot-RNN/blob/main/NLP_Chatbot.ipynb\" target=\"_parent\"><img src=\"https://colab.research.google.com/assets/colab-badge.svg\" alt=\"Open In Colab\"/></a>"
      ]
    },
    {
      "cell_type": "code",
      "execution_count": null,
      "metadata": {
        "colab": {
          "base_uri": "https://localhost:8080/"
        },
        "id": "6FOLh_UOyK6m",
        "outputId": "a4f328a4-0f14-47fa-ce29-8761ac73d7e9"
      },
      "outputs": [
        {
          "name": "stdout",
          "output_type": "stream",
          "text": [
            "2.15.0\n"
          ]
        }
      ],
      "source": [
        "import tensorflow as tf\n",
        "import math\n",
        "import numpy as np\n",
        "import pandas as pd\n",
        "from sklearn import model_selection\n",
        "import re\n",
        "print(tf.__version__)"
      ]
    },
    {
      "cell_type": "code",
      "execution_count": null,
      "metadata": {
        "colab": {
          "base_uri": "https://localhost:8080/"
        },
        "id": "Tt1by-IHyRcd",
        "outputId": "d3dde1fd-a917-410e-82d5-9617859f3818"
      },
      "outputs": [
        {
          "name": "stdout",
          "output_type": "stream",
          "text": [
            "Dataset URL: https://www.kaggle.com/datasets/hijest/cleaned-data-for-the-chatbot-collected-from-movies\n",
            "License(s): copyright-authors\n",
            "cleaned-data-for-the-chatbot-collected-from-movies.zip: Skipping, found more recently modified local copy (use --force to force download)\n",
            "Archive:  cleaned-data-for-the-chatbot-collected-from-movies.zip\n",
            "replace dialogs_expanded.csv? [y]es, [n]o, [A]ll, [N]one, [r]ename: n\n",
            "replace input3.csv? [y]es, [n]o, [A]ll, [N]one, [r]ename: n\n",
            "replace model_att29iter_expanded.data-00000-of-00001? [y]es, [n]o, [A]ll, [N]one, [r]ename: n\n",
            "replace model_att29iter_expanded.index? [y]es, [n]o, [A]ll, [N]one, [r]ename: n\n",
            "replace target3.csv? [y]es, [n]o, [A]ll, [N]one, [r]ename: n\n"
          ]
        }
      ],
      "source": [
        "from google.colab import files\n",
        "\n",
        "# Upload your kaggle.json file\n",
        "#uploaded = files.upload()\n",
        "\n",
        "#!mkdir -p ~/.kaggle\n",
        "#!mv kaggle.json ~/.kaggle/\n",
        "#!chmod 600 ~/.kaggle/kaggle.json\n",
        "\n",
        "# Download the dataset\n",
        "!kaggle datasets download -d hijest/cleaned-data-for-the-chatbot-collected-from-movies\n",
        "\n",
        "# Unzip the dataset\n",
        "!unzip cleaned-data-for-the-chatbot-collected-from-movies.zip"
      ]
    },
    {
      "cell_type": "code",
      "execution_count": null,
      "metadata": {
        "colab": {
          "base_uri": "https://localhost:8080/"
        },
        "id": "bDiV94kKyq6C",
        "outputId": "e8d26d3b-4a26-4f34-cf0b-6ebc3cf112eb"
      },
      "outputs": [
        {
          "name": "stdout",
          "output_type": "stream",
          "text": [
            "Number of elements in features: Unnamed: 0         139409\n",
            "question           139409\n",
            "answer             139409\n",
            "question_as_int    139409\n",
            "answer_as_int      139409\n",
            "question_len       139409\n",
            "answer_len         139409\n",
            "dtype: int64\n"
          ]
        }
      ],
      "source": [
        "data_df = pd.read_csv(\"dialogs_expanded.csv\", index_col=False)\n",
        "#data_df = data_df.sample(frac=0.5) #fractional trained here\n",
        "print(\"Number of elements in features:\", data_df.count())"
      ]
    },
    {
      "cell_type": "code",
      "execution_count": null,
      "metadata": {
        "id": "6J_f_xeRy6At"
      },
      "outputs": [],
      "source": [
        "data_df.drop(['Unnamed: 0','question_as_int','answer_as_int','question_len','answer_len'], axis=1, inplace=True)"
      ]
    },
    {
      "cell_type": "code",
      "execution_count": null,
      "metadata": {
        "id": "-WIg7WHLy_RA"
      },
      "outputs": [],
      "source": [
        "def clean_text(text):\n",
        "  text = text.lower()\n",
        "  text = re.sub('\\[.*?\\]', '', text)\n",
        "  text = re.sub('https?://\\S+|www\\.\\S+', '', text)\n",
        "  text = re.sub('<.*?>+', '', text)\n",
        "  text = re.sub('\\n', '', text)\n",
        "  text = re.sub(r'[^\\w]',' ',text)\n",
        "  text = re.sub('\\w*\\d\\w*', '', text)\n",
        "  #text = re.sub(r'\\s+', ' ', text)  # Remove consecutive spaces\n",
        "  return text\n",
        "\n",
        "data_df.question = data_df.question.map(clean_text)\n",
        "data_df.answer = data_df.answer.map(clean_text)"
      ]
    },
    {
      "cell_type": "code",
      "execution_count": null,
      "metadata": {
        "id": "fhrQWh4zzBk1"
      },
      "outputs": [],
      "source": [
        "def add_start_end(text):\n",
        "  text = f'<start> {text} <end>'\n",
        "  return text\n",
        "\n",
        "data_df.question = data_df.question.map(add_start_end)\n",
        "data_df.answer = data_df.answer.map(add_start_end)"
      ]
    },
    {
      "cell_type": "code",
      "execution_count": null,
      "metadata": {
        "id": "dT3v142bzDIO"
      },
      "outputs": [],
      "source": [
        "#data_df"
      ]
    },
    {
      "cell_type": "code",
      "execution_count": null,
      "metadata": {
        "id": "CDJYb3fRzXsn"
      },
      "outputs": [],
      "source": [
        "def tokenize(lang):\n",
        "  lang_tokenizer = tf.keras.preprocessing.text.Tokenizer(\n",
        "      filters='!\"#$%&()*+,-./:;=?@[\\\\]^_`{|}~\\t\\n', oov_token='<OOV>'\n",
        "  )\n",
        "  lang_tokenizer.fit_on_texts(lang)\n",
        "  tensor = lang_tokenizer.texts_to_sequences(lang)\n",
        "  tensor = tf.keras.preprocessing.sequence.pad_sequences(tensor, padding='post')\n",
        "  return tensor, lang_tokenizer"
      ]
    },
    {
      "cell_type": "code",
      "execution_count": null,
      "metadata": {
        "id": "L48AtbhpzZ3D"
      },
      "outputs": [],
      "source": [
        "question_sequence, question_tokenizer = tokenize(data_df.question)\n",
        "answer_sequence, answer_tokenizer = tokenize(data_df.answer)"
      ]
    },
    {
      "cell_type": "code",
      "execution_count": null,
      "metadata": {
        "colab": {
          "base_uri": "https://localhost:8080/"
        },
        "id": "RJzm3psfza4K",
        "outputId": "094e2cde-f563-43a0-d274-3b6a24476c91"
      },
      "outputs": [
        {
          "data": {
            "text/plain": [
              "((125468, 29), (13941, 29), (125468, 32), (13941, 32))"
            ]
          },
          "execution_count": 43,
          "metadata": {},
          "output_type": "execute_result"
        }
      ],
      "source": [
        "x_train, x_test, y_train, y_test = model_selection.train_test_split(question_sequence,\n",
        "                answer_sequence, test_size = 0.1, random_state=42)\n",
        "\n",
        "x_train.shape, x_test.shape, y_train.shape, y_test.shape"
      ]
    },
    {
      "cell_type": "code",
      "execution_count": null,
      "metadata": {
        "colab": {
          "base_uri": "https://localhost:8080/"
        },
        "id": "2n4mX0t5znpZ",
        "outputId": "d63eba66-94df-4cdd-9ecd-a443e2e0bfd5"
      },
      "outputs": [
        {
          "name": "stdout",
          "output_type": "stream",
          "text": [
            "2---> <start>\n",
            "80---> yeah\n",
            "13---> that\n",
            "8---> s\n",
            "11002---> blush\n",
            "36---> on\n",
            "32---> my\n",
            "301---> wife\n",
            "3384---> uses\n",
            "9---> it\n",
            "3---> <end>\n",
            "2---> <start>\n",
            "204---> ask\n",
            "5535---> travis\n",
            "22---> he\n",
            "7---> s\n",
            "6---> the\n",
            "1765---> ladies\n",
            "104---> man\n",
            "3---> <end>\n"
          ]
        }
      ],
      "source": [
        "def convert(lang, tensor):\n",
        "  for t in tensor:\n",
        "    if t!=0:\n",
        "      print('%d -> %s' % (t, lang.index_word[t]))\n",
        "\n",
        "convert(question_tokenizer, x_train[0])\n",
        "convert(answer_tokenizer, y_train[0])"
      ]
    },
    {
      "cell_type": "code",
      "execution_count": null,
      "metadata": {
        "id": "LsUwD9jOzqur"
      },
      "outputs": [],
      "source": [
        "vocab_inp_size = len(question_tokenizer.word_index)+1\n",
        "vocab_tar_size =  len(answer_tokenizer.word_index)+1\n",
        "embedding_dim = 256\n",
        "units = 1024\n",
        "batch_size=32"
      ]
    },
    {
      "cell_type": "code",
      "execution_count": null,
      "metadata": {
        "id": "9kK7GwGkzsRv"
      },
      "outputs": [],
      "source": [
        "def create_dataset(x, y, batch_size=32):\n",
        "  data = tf.data.Dataset.from_tensor_slices((x, y))\n",
        "\n",
        "  data = data.shuffle(1028)\n",
        "  data = data.batch(batch_size, drop_remainder=True)\n",
        "\n",
        "  data = data.prefetch(tf.data.experimental.AUTOTUNE)\n",
        "\n",
        "  return data\n",
        "\n",
        "train_dataset = create_dataset(x_train, y_train)\n",
        "test_dataset = create_dataset(x_test, y_test)"
      ]
    },
    {
      "cell_type": "code",
      "execution_count": null,
      "metadata": {
        "id": "FYusqwcLzxr5"
      },
      "outputs": [],
      "source": [
        "class Encoder(tf.keras.Model):\n",
        "  def __init__(self, vocab_size, embedding_dim, encoder_units, batch_size):\n",
        "      super(Encoder, self).__init__()\n",
        "\n",
        "      self.batch_size = batch_size\n",
        "      self.encoder_units = encoder_units\n",
        "      self.embedding = tf.keras.layers.Embedding(vocab_size, embedding_dim, mask_zero=True)\n",
        "      self.gru = tf.keras.layers.GRU(self.encoder_units,\n",
        "                                           return_sequences=True,\n",
        "                                           return_state=True,\n",
        "                                           recurrent_initializer = 'glorot_uniform')\n",
        "\n",
        "  def call(self, x, hidden):\n",
        "    x = self.embedding(x)\n",
        "    output, state = self.gru(x, initial_state = hidden)\n",
        "    return output, state\n",
        "\n",
        "  def initialize_hidden_state(self):\n",
        "    return tf.zeros((self.batch_size, self.encoder_units))"
      ]
    },
    {
      "cell_type": "code",
      "execution_count": null,
      "metadata": {
        "id": "TsYJjfZ4zzQa"
      },
      "outputs": [],
      "source": [
        "class Decoder(tf.keras.Model):\n",
        "  def __init__(self, vocab_size, embedding_dim, decoder_units, batch_size):\n",
        "      super(Decoder, self).__init__()\n",
        "\n",
        "      self.batch_size = batch_size\n",
        "      self.decoder_units = decoder_units\n",
        "      self.embedding = tf.keras.layers.Embedding(vocab_size, embedding_dim, mask_zero=True)\n",
        "      self.gru = tf.keras.layers.GRU(self.decoder_units,\n",
        "                                           return_sequences=True,\n",
        "                                           return_state=True,\n",
        "                                           recurrent_initializer = 'glorot_uniform')\n",
        "\n",
        "      self.fc = tf.keras.layers.Dense(vocab_size)\n",
        "\n",
        "\n",
        "  def call(self, x, hidden):\n",
        "    x = self.embedding(x)\n",
        "    output, hidden = self.gru(x, initial_state = hidden)\n",
        "    output = tf.reshape(output, (-1, output.shape[2]))\n",
        "    x =  tf.nn.softmax(self.fc(output))\n",
        "    return x, hidden"
      ]
    },
    {
      "cell_type": "code",
      "execution_count": null,
      "metadata": {
        "colab": {
          "base_uri": "https://localhost:8080/"
        },
        "id": "aN7_3nBxz10N",
        "outputId": "fac8f61a-2d96-438a-a09e-187f84646d5f"
      },
      "outputs": [
        {
          "name": "stdout",
          "output_type": "stream",
          "text": [
            "Encoder output shape: (batch size, sequence length, units) (32, 29, 1024)\n",
            "Encoder Hidden state shape: (batch size, units) (32, 1024)\n"
          ]
        }
      ],
      "source": [
        "# vocab_inp_size = len(eng_tokenizer.word_index)+1\n",
        "# vocab_tar_size =  len(spn_tokenizer.word_index)+1\n",
        "# embedding_dim = 256\n",
        "# units = 1024\n",
        "# batch_size=32\n",
        "\n",
        "encoder = Encoder(vocab_inp_size, embedding_dim, units, batch_size)\n",
        "sample_hidden = encoder.initialize_hidden_state()\n",
        "sample_output, sample_hidden = encoder(q, sample_hidden)\n",
        "print ('Encoder output shape: (batch size, sequence length, units) {}'.format(sample_output.shape))\n",
        "print ('Encoder Hidden state shape: (batch size, units) {}'.format(sample_hidden.shape))"
      ]
    },
    {
      "cell_type": "code",
      "execution_count": null,
      "metadata": {
        "colab": {
          "base_uri": "https://localhost:8080/"
        },
        "id": "G4X_GQE_z3fb",
        "outputId": "759fece7-ae6c-4b19-97c5-3737418ff7b9"
      },
      "outputs": [
        {
          "name": "stdout",
          "output_type": "stream",
          "text": [
            "Decoder output shape: (batch size, vocab_size) (32, 27849)\n"
          ]
        }
      ],
      "source": [
        "decoder = Decoder(vocab_tar_size, embedding_dim, units, batch_size)\n",
        "\n",
        "sample_decoder_output, _ = decoder(tf.random.uniform((batch_size, 1)), sample_hidden)\n",
        "\n",
        "print ('Decoder output shape: (batch size, vocab_size) {}'.format(sample_decoder_output.shape))"
      ]
    },
    {
      "cell_type": "code",
      "execution_count": null,
      "metadata": {
        "id": "rrmDAHIMz5OD"
      },
      "outputs": [],
      "source": [
        "optimizer = tf.keras.optimizers.Adam()\n",
        "\n",
        "loss_object = tf.keras.losses.SparseCategoricalCrossentropy(from_logits=False, reduction='none')\n",
        "\n",
        "def loss_function(real, pred):\n",
        "  mask = tf.math.logical_not(tf.math.equal(real, 0))\n",
        "  loss_ = loss_object(real, pred)\n",
        "  mask = tf.cast(mask, dtype=loss_.dtype)\n",
        "  loss_ *= mask\n",
        "  return tf.reduce_mean(loss_)\n"
      ]
    },
    {
      "cell_type": "code",
      "execution_count": null,
      "metadata": {
        "id": "m4Cnu1yPz6yL"
      },
      "outputs": [],
      "source": [
        "# the training metrics\n",
        "train_loss = tf.metrics.Mean(name='train loss')\n",
        "# training loss\n",
        "test_loss =tf.metrics.Mean(name='test loss')\n",
        "\n",
        "accuracy = tf.keras.metrics.Accuracy()"
      ]
    },
    {
      "cell_type": "code",
      "execution_count": null,
      "metadata": {
        "id": "hpjIJ6a6z8V9"
      },
      "outputs": [],
      "source": [
        "# create the training step\n",
        "# using the tf.function decorator to speed up the training process by converting the training function to a TensorFlow graph\n",
        "@tf.function\n",
        "def train_step(inputs, target, encoder_hidden_state):\n",
        "    total_loss = 0\n",
        "\n",
        "    with tf.GradientTape() as tape:\n",
        "        encoder_output, encoder_hidden_state = encoder(inputs, encoder_hidden_state)\n",
        "        decoder_hidden_state = encoder_hidden_state\n",
        "        decoder_input = tf.expand_dims([answer_tokenizer.word_index['<start>']] * inputs.shape[0], 1)\n",
        "\n",
        "        for timestep in range(1, target.shape[1]):\n",
        "            predictions, decoder_hidden_state = decoder(decoder_input, decoder_hidden_state)\n",
        "            total_loss += loss_function(target[:, timestep], predictions)\n",
        "            decoder_input = tf.expand_dims(target[:, timestep], 1)\n",
        "\n",
        "    batch_loss = (total_loss / int(target.shape[1]))\n",
        "\n",
        "    all_trainable_variables = encoder.trainable_variables + decoder.trainable_variables\n",
        "    gradients = tape.gradient(total_loss, all_trainable_variables)\n",
        "    optimizer.apply_gradients(zip(gradients, all_trainable_variables))\n",
        "    train_loss(batch_loss)\n",
        "\n",
        "    return batch_loss"
      ]
    },
    {
      "cell_type": "code",
      "execution_count": null,
      "metadata": {
        "id": "4tfOyRHPz--E"
      },
      "outputs": [],
      "source": [
        "@tf.function\n",
        "def test_step(inputs, target, enc_hidden_state):\n",
        "    loss = 0\n",
        "\n",
        "    enc_output, enc_hidden_state = encoder(inputs, enc_hidden_state)\n",
        "    dec_hidden_state = enc_hidden_state\n",
        "    dec_input = tf.expand_dims([answer_tokenizer.word_index['<start>']] * inputs.shape[0], 1)\n",
        "\n",
        "    for time_step in range(1, target.shape[1]):\n",
        "        predictions, dec_hidden_state = decoder(dec_input, dec_hidden_state)\n",
        "        loss += loss_function(target[:, time_step], predictions)\n",
        "        dec_input = tf.expand_dims(target[:, time_step], 1)\n",
        "\n",
        "    batch_loss = (loss / int(target.shape[1]))\n",
        "    test_loss(batch_loss)\n",
        "    return batch_loss\n"
      ]
    },
    {
      "cell_type": "code",
      "execution_count": null,
      "metadata": {
        "id": "jLSgwnEkCam0"
      },
      "outputs": [],
      "source": [
        "# Initialize lists to store metrics\n",
        "train_losses = []\n",
        "test_losses = []\n"
      ]
    },
    {
      "cell_type": "code",
      "execution_count": null,
      "metadata": {
        "colab": {
          "background_save": true,
          "base_uri": "https://localhost:8080/"
        },
        "id": "Ym1OmzwF0BLZ",
        "outputId": "0192cf2a-78a3-491e-c34e-a1c9bf6d12e7"
      },
      "outputs": [
        {
          "name": "stdout",
          "output_type": "stream",
          "text": [
            "4355/4356 [============================>.] - ETA: 0sModel is saved\n",
            "##################################################\n",
            "Epoch #1\n",
            "Training Loss 1.42347252368927\n",
            "Testing Loss 1.2973767518997192\n",
            "##################################################\n",
            "4355/4356 [============================>.] - ETA: 0sModel is saved\n",
            "##################################################\n",
            "Epoch #2\n",
            "Training Loss 1.2022850513458252\n",
            "Testing Loss 1.286497712135315\n",
            "##################################################\n",
            "4355/4356 [============================>.] - ETA: 0s##################################################\n",
            "Epoch #3\n",
            "Training Loss 1.0612324476242065\n",
            "Testing Loss 1.3273940086364746\n",
            "##################################################\n",
            "4355/4356 [============================>.] - ETA: 0s##################################################\n",
            "Epoch #4\n",
            "Training Loss 0.9226781725883484\n",
            "Testing Loss 1.3844581842422485\n",
            "##################################################\n",
            "4355/4356 [============================>.] - ETA: 0s##################################################\n",
            "Epoch #5\n",
            "Training Loss 0.8150038719177246\n",
            "Testing Loss 1.4421648979187012\n",
            "##################################################\n"
          ]
        }
      ],
      "source": [
        "EPOCHS = 4\n",
        "old_test_loss = math.inf # extremly high number here.\n",
        "\n",
        "for epoch in range(EPOCHS):\n",
        "    train_loss.reset_states()\n",
        "    test_loss.reset_states()\n",
        "\n",
        "    enc_hidden = encoder.initialize_hidden_state()\n",
        "    steps_per_epoch = answer_sequence.shape[0] // batch_size\n",
        "    bar = tf.keras.utils.Progbar(target=steps_per_epoch)\n",
        "\n",
        "    count = 0\n",
        "\n",
        "    for (batch, (inputs, target)) in enumerate(train_dataset):\n",
        "        count += 1\n",
        "        batch_loss = train_step(inputs, target, enc_hidden)\n",
        "        bar.update(count)\n",
        "\n",
        "    for (batch, (inputs, target)) in enumerate(test_dataset):\n",
        "        count += 1\n",
        "        batch_loss = test_step(inputs, target, enc_hidden)\n",
        "        bar.update(count)\n",
        "\n",
        "    if old_test_loss > test_loss.result():\n",
        "        old_test_loss = test_loss.result()\n",
        "        encoder.save(filepath='/content/models/encoder')\n",
        "        decoder.save(filepath='/content/models/decoder')\n",
        "        print('Model is saved')\n",
        "\n",
        "    train_losses.append(train_loss.result())\n",
        "    test_losses.append(test_loss.result())\n",
        "\n",
        "    print('#' * 50)\n",
        "    print(f'Epoch #{epoch + 1}')\n",
        "    print(f'Training Loss {train_loss.result()}')\n",
        "    print(f'Testing Loss {test_loss.result()}')\n",
        "\n",
        "    print('#' * 50)\n"
      ]
    },
    {
      "cell_type": "code",
      "execution_count": null,
      "metadata": {
        "colab": {
          "background_save": true,
          "base_uri": "https://localhost:8080/",
          "height": 564
        },
        "id": "R9I8sPTvCnTf",
        "outputId": "d259ca37-b721-4344-e76a-4592e1ba6aee"
      },
      "outputs": [
        {
          "data": {
            "image/png": "[encoded data removed]",
            "text/plain": [
              "<Figure size 1000x600 with 1 Axes>"
            ]
          },
          "metadata": {},
          "output_type": "display_data"
        }
      ],
      "source": [
        "import matplotlib.pyplot as plt\n",
        "\n",
        "# Convert lists to numpy arrays\n",
        "train_losses = np.array(train_losses)\n",
        "test_losses = np.array(test_losses)\n",
        "\n",
        "# Plotting\n",
        "plt.figure(figsize=(10, 6))\n",
        "plt.plot(train_losses, label='Training Loss', color='blue')\n",
        "plt.plot(test_losses, label='Testing Loss', color='orange')\n",
        "plt.title('Training and Testing Loss')\n",
        "plt.xlabel('Epochs')\n",
        "plt.ylabel('Loss')\n",
        "plt.legend()\n",
        "plt.grid(True)\n",
        "plt.show()\n"
      ]
    },
    {
      "cell_type": "code",
      "execution_count": null,
      "metadata": {
        "colab": {
          "background_save": true
        },
        "id": "m1RjF0wrF6F4"
      },
      "outputs": [],
      "source": [
        "def generate_response(sentence):\n",
        "  cleaned_sentence = clean_text(sentence)\n",
        "  preprocessed_sentence = add_start_end(cleaned_sentence)\n",
        "  inputs = question_tokenizer.texts_to_sequences([preprocessed_sentence])\n",
        "  inputs = tf.keras.preprocessing.sequence.pad_sequences(inputs, maxlen=29, padding='post')\n",
        "\n",
        "  initial_hidden_state = [tf.zeros((1, units))]\n",
        "  encoder_output, encoder_hidden_state = encoder(inputs, initial_hidden_state)\n",
        "  decoder_hidden_state = encoder_hidden_state\n",
        "  decoder_input = tf.expand_dims([answer_tokenizer.word_index['<start>']], 0)\n",
        "  result = ''\n",
        "\n",
        "  for _ in range(32):\n",
        "    predictions, decoder_hidden_state = decoder(decoder_input, decoder_hidden_state)\n",
        "    predicted_id = tf.argmax(predictions[0]).numpy()\n",
        "    result += answer_tokenizer.index_word[predicted_id] + ' '\n",
        "    if answer_tokenizer.index_word[predicted_id] == '<end>':\n",
        "      result = result.replace('<start> ', '')\n",
        "      result = result.replace(' <end> ','')\n",
        "      cleaned_sentence = cleaned_sentence.replace('<start> ', '')\n",
        "      cleaned_sentence = cleaned_sentence.replace(' <end>', '')\n",
        "      return  cleaned_sentence, result\n",
        "\n",
        "    decoder_input = tf.expand_dims([predicted_id], 0)\n",
        "\n",
        "  result = result.replace('<start> ', '')\n",
        "  result = result.replace('<end>','')\n",
        "  cleaned_sentence = cleaned_sentence.replace('<start> ', '')\n",
        "  cleaned_sentence = cleaned_sentence.replace('<end>', '')\n",
        "\n",
        "  return cleaned_sentence, result\n"
      ]
    },
    {
      "cell_type": "code",
      "execution_count": null,
      "metadata": {
        "colab": {
          "background_save": true,
          "base_uri": "https://localhost:8080/"
        },
        "id": "zFyyXGPQKTUO",
        "outputId": "d7f7a2af-267e-43d7-ad03-0db96ef410c9"
      },
      "outputs": [
        {
          "data": {
            "text/plain": [
              "('how are you today', 'tolerable i m fine')"
            ]
          },
          "execution_count": 60,
          "metadata": {},
          "output_type": "execute_result"
        }
      ],
      "source": [
        "generate_response(\"how are you today\")"
      ]
    },
    {
      "cell_type": "code",
      "execution_count": null,
      "metadata": {
        "colab": {
          "background_save": true,
          "base_uri": "https://localhost:8080/"
        },
        "id": "_1YH7qg8KXFo",
        "outputId": "e36e720d-8fdb-4c82-f28a-fc10af8395a9"
      },
      "outputs": [
        {
          "data": {
            "text/plain": [
              "('what is the weather outside', 'the american')"
            ]
          },
          "execution_count": 61,
          "metadata": {},
          "output_type": "execute_result"
        }
      ],
      "source": [
        "generate_response('what is the weather outside')"
      ]
    },
    {
      "cell_type": "code",
      "execution_count": null,
      "metadata": {
        "colab": {
          "background_save": true,
          "base_uri": "https://localhost:8080/"
        },
        "id": "C2Afk_PBKZOE",
        "outputId": "35a15ba0-a826-4339-ef71-28e9b89c1c92"
      },
      "outputs": [
        {
          "data": {
            "text/plain": [
              "('can you run', 'i can t imagine')"
            ]
          },
          "execution_count": 62,
          "metadata": {},
          "output_type": "execute_result"
        }
      ],
      "source": [
        "generate_response('can you run')\n"
      ]
    },
    {
      "cell_type": "code",
      "execution_count": null,
      "metadata": {
        "colab": {
          "background_save": true,
          "base_uri": "https://localhost:8080/"
        },
        "id": "NoWI-sDdKZCT",
        "outputId": "f9a9d656-04ff-447b-80da-2808c8c8499f"
      },
      "outputs": [
        {
          "data": {
            "text/plain": [
              "(' how old ', 'four or three')"
            ]
          },
          "execution_count": 63,
          "metadata": {},
          "output_type": "execute_result"
        }
      ],
      "source": [
        "generate_response(' how old ')"
      ]
    },
    {
      "cell_type": "code",
      "execution_count": null,
      "metadata": {
        "colab": {
          "background_save": true,
          "base_uri": "https://localhost:8080/"
        },
        "id": "PTSjqpcqKdUG",
        "outputId": "8e194e78-bbbd-454d-c984-15967ff2e884"
      },
      "outputs": [
        {
          "data": {
            "text/plain": [
              "('can you play', 'i m not sure')"
            ]
          },
          "execution_count": 64,
          "metadata": {},
          "output_type": "execute_result"
        }
      ],
      "source": [
        "generate_response('can you play')"
      ]
    },
    {
      "cell_type": "code",
      "execution_count": null,
      "metadata": {
        "colab": {
          "background_save": true,
          "base_uri": "https://localhost:8080/"
        },
        "id": "ITWGIvxrM4OK",
        "outputId": "e697ef11-606e-4759-b50c-39d8b14220e8"
      },
      "outputs": [
        {
          "data": {
            "text/plain": [
              "('where you goin', 'i don t know')"
            ]
          },
          "execution_count": 65,
          "metadata": {},
          "output_type": "execute_result"
        }
      ],
      "source": [
        "generate_response('where you goin')"
      ]
    },
    {
      "cell_type": "code",
      "execution_count": null,
      "metadata": {
        "id": "IZaKdrv8Y1qS"
      },
      "outputs": [],
      "source": [
        "while True:\n",
        "    user_input = input(\"You: \")\n",
        "    if user_input.lower() == 'q':\n",
        "        print(\"Goodbye!\")\n",
        "        break\n",
        "    else:\n",
        "        _, response = generate_response(user_input)\n",
        "        print(\"Bot:\", response)"
      ]
    }
  ],
  "metadata": {
    "accelerator": "GPU",
    "colab": {
      "gpuType": "T4",
      "provenance": [],
      "authorship_tag": "ABX9TyNxFA4p5QZ7h/F08NMviE80",
      "include_colab_link": true
    },
    "kernelspec": {
      "display_name": "Python 3",
      "name": "python3"
    },
    "language_info": {
      "name": "python"
    }
  },
  "nbformat": 4,
  "nbformat_minor": 0
}